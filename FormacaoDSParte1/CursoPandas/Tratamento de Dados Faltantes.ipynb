{
 "cells": [
  {
   "cell_type": "markdown",
   "id": "e94b85a3",
   "metadata": {},
   "source": [
    "# Relatório de Analise V"
   ]
  },
  {
   "cell_type": "markdown",
   "id": "b5e527ed",
   "metadata": {},
   "source": [
    "## Tratamento de Dados Faltantes"
   ]
  },
  {
   "cell_type": "code",
   "execution_count": 1,
   "id": "cf8757cc",
   "metadata": {},
   "outputs": [
    {
     "data": {
      "text/html": [
       "<div>\n",
       "<style scoped>\n",
       "    .dataframe tbody tr th:only-of-type {\n",
       "        vertical-align: middle;\n",
       "    }\n",
       "\n",
       "    .dataframe tbody tr th {\n",
       "        vertical-align: top;\n",
       "    }\n",
       "\n",
       "    .dataframe thead th {\n",
       "        text-align: right;\n",
       "    }\n",
       "</style>\n",
       "<table border=\"1\" class=\"dataframe\">\n",
       "  <thead>\n",
       "    <tr style=\"text-align: right;\">\n",
       "      <th></th>\n",
       "      <th>Tipo</th>\n",
       "      <th>Bairro</th>\n",
       "      <th>Quartos</th>\n",
       "      <th>Vagas</th>\n",
       "      <th>Suites</th>\n",
       "      <th>Area</th>\n",
       "      <th>Valor</th>\n",
       "      <th>Condominio</th>\n",
       "      <th>IPTU</th>\n",
       "    </tr>\n",
       "  </thead>\n",
       "  <tbody>\n",
       "    <tr>\n",
       "      <th>0</th>\n",
       "      <td>Quitinete</td>\n",
       "      <td>Copacabana</td>\n",
       "      <td>1</td>\n",
       "      <td>0</td>\n",
       "      <td>0</td>\n",
       "      <td>40</td>\n",
       "      <td>1700.0</td>\n",
       "      <td>500.0</td>\n",
       "      <td>60.0</td>\n",
       "    </tr>\n",
       "    <tr>\n",
       "      <th>1</th>\n",
       "      <td>Casa</td>\n",
       "      <td>Jardim Botânico</td>\n",
       "      <td>2</td>\n",
       "      <td>0</td>\n",
       "      <td>1</td>\n",
       "      <td>100</td>\n",
       "      <td>7000.0</td>\n",
       "      <td>NaN</td>\n",
       "      <td>NaN</td>\n",
       "    </tr>\n",
       "    <tr>\n",
       "      <th>2</th>\n",
       "      <td>Apartamento</td>\n",
       "      <td>Centro</td>\n",
       "      <td>1</td>\n",
       "      <td>0</td>\n",
       "      <td>0</td>\n",
       "      <td>15</td>\n",
       "      <td>800.0</td>\n",
       "      <td>390.0</td>\n",
       "      <td>20.0</td>\n",
       "    </tr>\n",
       "    <tr>\n",
       "      <th>3</th>\n",
       "      <td>Apartamento</td>\n",
       "      <td>Higienópolis</td>\n",
       "      <td>1</td>\n",
       "      <td>0</td>\n",
       "      <td>0</td>\n",
       "      <td>48</td>\n",
       "      <td>800.0</td>\n",
       "      <td>230.0</td>\n",
       "      <td>NaN</td>\n",
       "    </tr>\n",
       "    <tr>\n",
       "      <th>4</th>\n",
       "      <td>Apartamento</td>\n",
       "      <td>Vista Alegre</td>\n",
       "      <td>3</td>\n",
       "      <td>1</td>\n",
       "      <td>0</td>\n",
       "      <td>70</td>\n",
       "      <td>1200.0</td>\n",
       "      <td>NaN</td>\n",
       "      <td>NaN</td>\n",
       "    </tr>\n",
       "  </tbody>\n",
       "</table>\n",
       "</div>"
      ],
      "text/plain": [
       "          Tipo           Bairro  Quartos  Vagas  Suites  Area   Valor  \\\n",
       "0    Quitinete       Copacabana        1      0       0    40  1700.0   \n",
       "1         Casa  Jardim Botânico        2      0       1   100  7000.0   \n",
       "2  Apartamento           Centro        1      0       0    15   800.0   \n",
       "3  Apartamento     Higienópolis        1      0       0    48   800.0   \n",
       "4  Apartamento     Vista Alegre        3      1       0    70  1200.0   \n",
       "\n",
       "   Condominio  IPTU  \n",
       "0       500.0  60.0  \n",
       "1         NaN   NaN  \n",
       "2       390.0  20.0  \n",
       "3       230.0   NaN  \n",
       "4         NaN   NaN  "
      ]
     },
     "execution_count": 1,
     "metadata": {},
     "output_type": "execute_result"
    }
   ],
   "source": [
    "import pandas as pd\n",
    "dados = pd.read_csv('dados/aluguel_residencial.csv', sep=';')\n",
    "dados.head()"
   ]
  },
  {
   "cell_type": "markdown",
   "id": "d5aaa60f",
   "metadata": {},
   "source": [
    "##### Visualizando dados nulos"
   ]
  },
  {
   "cell_type": "code",
   "execution_count": 2,
   "id": "ea07ce9e",
   "metadata": {},
   "outputs": [
    {
     "data": {
      "text/html": [
       "<div>\n",
       "<style scoped>\n",
       "    .dataframe tbody tr th:only-of-type {\n",
       "        vertical-align: middle;\n",
       "    }\n",
       "\n",
       "    .dataframe tbody tr th {\n",
       "        vertical-align: top;\n",
       "    }\n",
       "\n",
       "    .dataframe thead th {\n",
       "        text-align: right;\n",
       "    }\n",
       "</style>\n",
       "<table border=\"1\" class=\"dataframe\">\n",
       "  <thead>\n",
       "    <tr style=\"text-align: right;\">\n",
       "      <th></th>\n",
       "      <th>Tipo</th>\n",
       "      <th>Bairro</th>\n",
       "      <th>Quartos</th>\n",
       "      <th>Vagas</th>\n",
       "      <th>Suites</th>\n",
       "      <th>Area</th>\n",
       "      <th>Valor</th>\n",
       "      <th>Condominio</th>\n",
       "      <th>IPTU</th>\n",
       "    </tr>\n",
       "  </thead>\n",
       "  <tbody>\n",
       "    <tr>\n",
       "      <th>0</th>\n",
       "      <td>True</td>\n",
       "      <td>True</td>\n",
       "      <td>True</td>\n",
       "      <td>True</td>\n",
       "      <td>True</td>\n",
       "      <td>True</td>\n",
       "      <td>True</td>\n",
       "      <td>True</td>\n",
       "      <td>True</td>\n",
       "    </tr>\n",
       "    <tr>\n",
       "      <th>1</th>\n",
       "      <td>True</td>\n",
       "      <td>True</td>\n",
       "      <td>True</td>\n",
       "      <td>True</td>\n",
       "      <td>True</td>\n",
       "      <td>True</td>\n",
       "      <td>True</td>\n",
       "      <td>False</td>\n",
       "      <td>False</td>\n",
       "    </tr>\n",
       "    <tr>\n",
       "      <th>2</th>\n",
       "      <td>True</td>\n",
       "      <td>True</td>\n",
       "      <td>True</td>\n",
       "      <td>True</td>\n",
       "      <td>True</td>\n",
       "      <td>True</td>\n",
       "      <td>True</td>\n",
       "      <td>True</td>\n",
       "      <td>True</td>\n",
       "    </tr>\n",
       "    <tr>\n",
       "      <th>3</th>\n",
       "      <td>True</td>\n",
       "      <td>True</td>\n",
       "      <td>True</td>\n",
       "      <td>True</td>\n",
       "      <td>True</td>\n",
       "      <td>True</td>\n",
       "      <td>True</td>\n",
       "      <td>True</td>\n",
       "      <td>False</td>\n",
       "    </tr>\n",
       "    <tr>\n",
       "      <th>4</th>\n",
       "      <td>True</td>\n",
       "      <td>True</td>\n",
       "      <td>True</td>\n",
       "      <td>True</td>\n",
       "      <td>True</td>\n",
       "      <td>True</td>\n",
       "      <td>True</td>\n",
       "      <td>False</td>\n",
       "      <td>False</td>\n",
       "    </tr>\n",
       "    <tr>\n",
       "      <th>...</th>\n",
       "      <td>...</td>\n",
       "      <td>...</td>\n",
       "      <td>...</td>\n",
       "      <td>...</td>\n",
       "      <td>...</td>\n",
       "      <td>...</td>\n",
       "      <td>...</td>\n",
       "      <td>...</td>\n",
       "      <td>...</td>\n",
       "    </tr>\n",
       "    <tr>\n",
       "      <th>23117</th>\n",
       "      <td>True</td>\n",
       "      <td>True</td>\n",
       "      <td>True</td>\n",
       "      <td>True</td>\n",
       "      <td>True</td>\n",
       "      <td>True</td>\n",
       "      <td>True</td>\n",
       "      <td>True</td>\n",
       "      <td>True</td>\n",
       "    </tr>\n",
       "    <tr>\n",
       "      <th>23118</th>\n",
       "      <td>True</td>\n",
       "      <td>True</td>\n",
       "      <td>True</td>\n",
       "      <td>True</td>\n",
       "      <td>True</td>\n",
       "      <td>True</td>\n",
       "      <td>True</td>\n",
       "      <td>True</td>\n",
       "      <td>True</td>\n",
       "    </tr>\n",
       "    <tr>\n",
       "      <th>23119</th>\n",
       "      <td>True</td>\n",
       "      <td>True</td>\n",
       "      <td>True</td>\n",
       "      <td>True</td>\n",
       "      <td>True</td>\n",
       "      <td>True</td>\n",
       "      <td>True</td>\n",
       "      <td>True</td>\n",
       "      <td>True</td>\n",
       "    </tr>\n",
       "    <tr>\n",
       "      <th>23120</th>\n",
       "      <td>True</td>\n",
       "      <td>True</td>\n",
       "      <td>True</td>\n",
       "      <td>True</td>\n",
       "      <td>True</td>\n",
       "      <td>True</td>\n",
       "      <td>True</td>\n",
       "      <td>True</td>\n",
       "      <td>True</td>\n",
       "    </tr>\n",
       "    <tr>\n",
       "      <th>23121</th>\n",
       "      <td>True</td>\n",
       "      <td>True</td>\n",
       "      <td>True</td>\n",
       "      <td>True</td>\n",
       "      <td>True</td>\n",
       "      <td>True</td>\n",
       "      <td>True</td>\n",
       "      <td>True</td>\n",
       "      <td>False</td>\n",
       "    </tr>\n",
       "  </tbody>\n",
       "</table>\n",
       "<p>23122 rows × 9 columns</p>\n",
       "</div>"
      ],
      "text/plain": [
       "       Tipo  Bairro  Quartos  Vagas  Suites  Area  Valor  Condominio   IPTU\n",
       "0      True    True     True   True    True  True   True        True   True\n",
       "1      True    True     True   True    True  True   True       False  False\n",
       "2      True    True     True   True    True  True   True        True   True\n",
       "3      True    True     True   True    True  True   True        True  False\n",
       "4      True    True     True   True    True  True   True       False  False\n",
       "...     ...     ...      ...    ...     ...   ...    ...         ...    ...\n",
       "23117  True    True     True   True    True  True   True        True   True\n",
       "23118  True    True     True   True    True  True   True        True   True\n",
       "23119  True    True     True   True    True  True   True        True   True\n",
       "23120  True    True     True   True    True  True   True        True   True\n",
       "23121  True    True     True   True    True  True   True        True  False\n",
       "\n",
       "[23122 rows x 9 columns]"
      ]
     },
     "execution_count": 2,
     "metadata": {},
     "output_type": "execute_result"
    }
   ],
   "source": [
    "#Estes método mostra no próprio dataframe, colocando True or False onde o valor é faltante\n",
    "#Porém neste caso não é muito util, pois o nosso dataframe é muito grande e olhar a olho nu não é produtivo.\n",
    "dados.isnull()\n",
    "dados.notnull()"
   ]
  },
  {
   "cell_type": "code",
   "execution_count": 3,
   "id": "55e473a7",
   "metadata": {},
   "outputs": [
    {
     "name": "stdout",
     "output_type": "stream",
     "text": [
      "<class 'pandas.core.frame.DataFrame'>\n",
      "RangeIndex: 23122 entries, 0 to 23121\n",
      "Data columns (total 9 columns):\n",
      " #   Column      Non-Null Count  Dtype  \n",
      "---  ------      --------------  -----  \n",
      " 0   Tipo        23122 non-null  object \n",
      " 1   Bairro      23122 non-null  object \n",
      " 2   Quartos     23122 non-null  int64  \n",
      " 3   Vagas       23122 non-null  int64  \n",
      " 4   Suites      23122 non-null  int64  \n",
      " 5   Area        23122 non-null  int64  \n",
      " 6   Valor       23113 non-null  float64\n",
      " 7   Condominio  21246 non-null  float64\n",
      " 8   IPTU        16237 non-null  float64\n",
      "dtypes: float64(3), int64(4), object(2)\n",
      "memory usage: 1.6+ MB\n"
     ]
    }
   ],
   "source": [
    "#traz as informações do dataset, e nele é possível ver quantos valores estão como nulos\n",
    "dados.info()"
   ]
  },
  {
   "cell_type": "code",
   "execution_count": 4,
   "id": "7a7be053",
   "metadata": {},
   "outputs": [
    {
     "data": {
      "text/html": [
       "<div>\n",
       "<style scoped>\n",
       "    .dataframe tbody tr th:only-of-type {\n",
       "        vertical-align: middle;\n",
       "    }\n",
       "\n",
       "    .dataframe tbody tr th {\n",
       "        vertical-align: top;\n",
       "    }\n",
       "\n",
       "    .dataframe thead th {\n",
       "        text-align: right;\n",
       "    }\n",
       "</style>\n",
       "<table border=\"1\" class=\"dataframe\">\n",
       "  <thead>\n",
       "    <tr style=\"text-align: right;\">\n",
       "      <th></th>\n",
       "      <th>Tipo</th>\n",
       "      <th>Bairro</th>\n",
       "      <th>Quartos</th>\n",
       "      <th>Vagas</th>\n",
       "      <th>Suites</th>\n",
       "      <th>Area</th>\n",
       "      <th>Valor</th>\n",
       "      <th>Condominio</th>\n",
       "      <th>IPTU</th>\n",
       "    </tr>\n",
       "  </thead>\n",
       "  <tbody>\n",
       "    <tr>\n",
       "      <th>60</th>\n",
       "      <td>Apartamento</td>\n",
       "      <td>Barra da Tijuca</td>\n",
       "      <td>2</td>\n",
       "      <td>1</td>\n",
       "      <td>1</td>\n",
       "      <td>70</td>\n",
       "      <td>NaN</td>\n",
       "      <td>970.0</td>\n",
       "      <td>68.0</td>\n",
       "    </tr>\n",
       "    <tr>\n",
       "      <th>1525</th>\n",
       "      <td>Apartamento</td>\n",
       "      <td>Leme</td>\n",
       "      <td>2</td>\n",
       "      <td>0</td>\n",
       "      <td>0</td>\n",
       "      <td>75</td>\n",
       "      <td>NaN</td>\n",
       "      <td>878.0</td>\n",
       "      <td>NaN</td>\n",
       "    </tr>\n",
       "    <tr>\n",
       "      <th>1719</th>\n",
       "      <td>Casa</td>\n",
       "      <td>Campo Grande</td>\n",
       "      <td>3</td>\n",
       "      <td>4</td>\n",
       "      <td>3</td>\n",
       "      <td>363</td>\n",
       "      <td>NaN</td>\n",
       "      <td>NaN</td>\n",
       "      <td>NaN</td>\n",
       "    </tr>\n",
       "    <tr>\n",
       "      <th>2056</th>\n",
       "      <td>Apartamento</td>\n",
       "      <td>Botafogo</td>\n",
       "      <td>2</td>\n",
       "      <td>0</td>\n",
       "      <td>0</td>\n",
       "      <td>95</td>\n",
       "      <td>NaN</td>\n",
       "      <td>1010.0</td>\n",
       "      <td>170.0</td>\n",
       "    </tr>\n",
       "    <tr>\n",
       "      <th>2078</th>\n",
       "      <td>Apartamento</td>\n",
       "      <td>Copacabana</td>\n",
       "      <td>2</td>\n",
       "      <td>0</td>\n",
       "      <td>0</td>\n",
       "      <td>72</td>\n",
       "      <td>NaN</td>\n",
       "      <td>850.0</td>\n",
       "      <td>NaN</td>\n",
       "    </tr>\n",
       "    <tr>\n",
       "      <th>5063</th>\n",
       "      <td>Casa</td>\n",
       "      <td>Campo Grande</td>\n",
       "      <td>3</td>\n",
       "      <td>2</td>\n",
       "      <td>1</td>\n",
       "      <td>100</td>\n",
       "      <td>NaN</td>\n",
       "      <td>NaN</td>\n",
       "      <td>NaN</td>\n",
       "    </tr>\n",
       "    <tr>\n",
       "      <th>8783</th>\n",
       "      <td>Apartamento</td>\n",
       "      <td>Leme</td>\n",
       "      <td>2</td>\n",
       "      <td>0</td>\n",
       "      <td>1</td>\n",
       "      <td>75</td>\n",
       "      <td>NaN</td>\n",
       "      <td>878.0</td>\n",
       "      <td>NaN</td>\n",
       "    </tr>\n",
       "    <tr>\n",
       "      <th>9172</th>\n",
       "      <td>Apartamento</td>\n",
       "      <td>Glória</td>\n",
       "      <td>3</td>\n",
       "      <td>0</td>\n",
       "      <td>1</td>\n",
       "      <td>135</td>\n",
       "      <td>NaN</td>\n",
       "      <td>910.0</td>\n",
       "      <td>228.0</td>\n",
       "    </tr>\n",
       "    <tr>\n",
       "      <th>9377</th>\n",
       "      <td>Apartamento</td>\n",
       "      <td>Gávea</td>\n",
       "      <td>3</td>\n",
       "      <td>1</td>\n",
       "      <td>1</td>\n",
       "      <td>105</td>\n",
       "      <td>NaN</td>\n",
       "      <td>880.0</td>\n",
       "      <td>221.0</td>\n",
       "    </tr>\n",
       "  </tbody>\n",
       "</table>\n",
       "</div>"
      ],
      "text/plain": [
       "             Tipo           Bairro  Quartos  Vagas  Suites  Area  Valor  \\\n",
       "60    Apartamento  Barra da Tijuca        2      1       1    70    NaN   \n",
       "1525  Apartamento             Leme        2      0       0    75    NaN   \n",
       "1719         Casa     Campo Grande        3      4       3   363    NaN   \n",
       "2056  Apartamento         Botafogo        2      0       0    95    NaN   \n",
       "2078  Apartamento       Copacabana        2      0       0    72    NaN   \n",
       "5063         Casa     Campo Grande        3      2       1   100    NaN   \n",
       "8783  Apartamento             Leme        2      0       1    75    NaN   \n",
       "9172  Apartamento           Glória        3      0       1   135    NaN   \n",
       "9377  Apartamento            Gávea        3      1       1   105    NaN   \n",
       "\n",
       "      Condominio   IPTU  \n",
       "60         970.0   68.0  \n",
       "1525       878.0    NaN  \n",
       "1719         NaN    NaN  \n",
       "2056      1010.0  170.0  \n",
       "2078       850.0    NaN  \n",
       "5063         NaN    NaN  \n",
       "8783       878.0    NaN  \n",
       "9172       910.0  228.0  \n",
       "9377       880.0  221.0  "
      ]
     },
     "execution_count": 4,
     "metadata": {},
     "output_type": "execute_result"
    }
   ],
   "source": [
    "#EM VALOR possuimos somente 9 valores nulos\n",
    "dados[dados['Valor'].isnull()]"
   ]
  },
  {
   "cell_type": "code",
   "execution_count": 5,
   "id": "2d28c462",
   "metadata": {},
   "outputs": [
    {
     "name": "stdout",
     "output_type": "stream",
     "text": [
      "<class 'pandas.core.frame.DataFrame'>\n",
      "Int64Index: 23113 entries, 0 to 23121\n",
      "Data columns (total 9 columns):\n",
      " #   Column      Non-Null Count  Dtype  \n",
      "---  ------      --------------  -----  \n",
      " 0   Tipo        23113 non-null  object \n",
      " 1   Bairro      23113 non-null  object \n",
      " 2   Quartos     23113 non-null  int64  \n",
      " 3   Vagas       23113 non-null  int64  \n",
      " 4   Suites      23113 non-null  int64  \n",
      " 5   Area        23113 non-null  int64  \n",
      " 6   Valor       23113 non-null  float64\n",
      " 7   Condominio  21239 non-null  float64\n",
      " 8   IPTU        16233 non-null  float64\n",
      "dtypes: float64(3), int64(4), object(2)\n",
      "memory usage: 1.8+ MB\n"
     ]
    }
   ],
   "source": [
    "#eliminando os nove valores nulos, já que por se tratar de uma pequena quantidade de dados não vai impactar no nosso target.\n",
    "dados.dropna(subset=['Valor'], inplace = True)\n",
    "dados.info()"
   ]
  },
  {
   "cell_type": "code",
   "execution_count": 6,
   "id": "daa1cd6a",
   "metadata": {},
   "outputs": [
    {
     "data": {
      "text/plain": [
       "1874"
      ]
     },
     "execution_count": 6,
     "metadata": {},
     "output_type": "execute_result"
    }
   ],
   "source": [
    "dados[dados['Condominio'].isnull()].shape[0]"
   ]
  },
  {
   "cell_type": "code",
   "execution_count": 7,
   "id": "dd449cb7",
   "metadata": {},
   "outputs": [
    {
     "data": {
      "text/plain": [
       "745"
      ]
     },
     "execution_count": 7,
     "metadata": {},
     "output_type": "execute_result"
    }
   ],
   "source": [
    "dados[(dados['Tipo'] == 'Apartamento') & (dados['Condominio'].isnull())].shape[0]"
   ]
  },
  {
   "cell_type": "code",
   "execution_count": 8,
   "id": "3e87fdab",
   "metadata": {},
   "outputs": [
    {
     "data": {
      "text/plain": [
       "745"
      ]
     },
     "execution_count": 8,
     "metadata": {},
     "output_type": "execute_result"
    }
   ],
   "source": [
    "#vou eliminar esses 745 registros onde ele seja do tipo apartamento e condominio esta nulo\n",
    "selecao = dados[(dados['Tipo'] == 'Apartamento') & (dados['Condominio'].isnull())].index\n",
    "a = dados.shape[0]\n",
    "dados = dados.drop(selecao)\n",
    "b = dados.shape[0]\n",
    "a - b"
   ]
  },
  {
   "cell_type": "code",
   "execution_count": 10,
   "id": "efe01f00",
   "metadata": {},
   "outputs": [
    {
     "data": {
      "text/plain": [
       "1129"
      ]
     },
     "execution_count": 10,
     "metadata": {},
     "output_type": "execute_result"
    }
   ],
   "source": [
    "dados[dados['Condominio'].isnull()].shape[0]"
   ]
  },
  {
   "cell_type": "code",
   "execution_count": 11,
   "id": "6fa8a2aa",
   "metadata": {},
   "outputs": [],
   "source": [
    "dados = dados.fillna({'Condominio': 0, 'IPTU': 0})"
   ]
  },
  {
   "cell_type": "code",
   "execution_count": 12,
   "id": "3848e47d",
   "metadata": {},
   "outputs": [
    {
     "data": {
      "text/plain": [
       "0"
      ]
     },
     "execution_count": 12,
     "metadata": {},
     "output_type": "execute_result"
    }
   ],
   "source": [
    "dados[dados['Condominio'].isnull()].shape[0]"
   ]
  },
  {
   "cell_type": "code",
   "execution_count": 13,
   "id": "06bd5721",
   "metadata": {},
   "outputs": [
    {
     "data": {
      "text/plain": [
       "0"
      ]
     },
     "execution_count": 13,
     "metadata": {},
     "output_type": "execute_result"
    }
   ],
   "source": [
    "dados[dados['IPTU'].isnull()].shape[0]"
   ]
  },
  {
   "cell_type": "code",
   "execution_count": 14,
   "id": "3ad5255a",
   "metadata": {},
   "outputs": [
    {
     "name": "stdout",
     "output_type": "stream",
     "text": [
      "<class 'pandas.core.frame.DataFrame'>\n",
      "Int64Index: 22368 entries, 0 to 23121\n",
      "Data columns (total 9 columns):\n",
      " #   Column      Non-Null Count  Dtype  \n",
      "---  ------      --------------  -----  \n",
      " 0   Tipo        22368 non-null  object \n",
      " 1   Bairro      22368 non-null  object \n",
      " 2   Quartos     22368 non-null  int64  \n",
      " 3   Vagas       22368 non-null  int64  \n",
      " 4   Suites      22368 non-null  int64  \n",
      " 5   Area        22368 non-null  int64  \n",
      " 6   Valor       22368 non-null  float64\n",
      " 7   Condominio  22368 non-null  float64\n",
      " 8   IPTU        22368 non-null  float64\n",
      "dtypes: float64(3), int64(4), object(2)\n",
      "memory usage: 1.7+ MB\n"
     ]
    }
   ],
   "source": [
    "dados.info()"
   ]
  },
  {
   "cell_type": "code",
   "execution_count": 15,
   "id": "a77e8407",
   "metadata": {},
   "outputs": [],
   "source": [
    "dados.to_csv('dados/aluguel_residencial.csv', sep=';', index=False)"
   ]
  },
  {
   "cell_type": "code",
   "execution_count": null,
   "id": "4becbb28",
   "metadata": {},
   "outputs": [],
   "source": []
  }
 ],
 "metadata": {
  "kernelspec": {
   "display_name": "Python 3 (ipykernel)",
   "language": "python",
   "name": "python3"
  },
  "language_info": {
   "codemirror_mode": {
    "name": "ipython",
    "version": 3
   },
   "file_extension": ".py",
   "mimetype": "text/x-python",
   "name": "python",
   "nbconvert_exporter": "python",
   "pygments_lexer": "ipython3",
   "version": "3.9.7"
  }
 },
 "nbformat": 4,
 "nbformat_minor": 5
}
